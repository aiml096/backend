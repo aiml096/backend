{
 "cells": [
  {
   "cell_type": "code",
   "execution_count": null,
   "metadata": {
    "vscode": {
     "languageId": "plaintext"
    }
   },
   "outputs": [],
   "source": [
    "import socket\n",
    "\n",
    "# Define server address and port\n",
    "HOST = \"127.0.0.1\"  # Localhost\n",
    "PORT = 12345        # Port number\n",
    "\n",
    "# Create a UDP socket\n",
    "server_socket = socket.socket(socket.AF_INET, socket.SOCK_DGRAM)\n",
    "\n",
    "# Bind the socket to the address and port\n",
    "server_socket.bind((HOST, PORT))\n",
    "\n",
    "print(f\"UDP Server is running on {HOST}:{PORT}\")\n",
    "\n",
    "while True:\n",
    "    # Receive data from client\n",
    "    data, client_address = server_socket.recvfrom(1024)  # Buffer size: 1024 bytes\n",
    "    message = data.decode()\n",
    "    print(f\"Received from {client_address}: {message}\")\n",
    "\n",
    "    # Send response (optional)\n",
    "    response = f\"Hello, {client_address}. You said: {message}\"\n",
    "    server_socket.sendto(response.encode(), client_address)\n"
   ]
  }
 ],
 "metadata": {
  "language_info": {
   "name": "python"
  }
 },
 "nbformat": 4,
 "nbformat_minor": 2
}
